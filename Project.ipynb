{
 "cells": [
  {
   "cell_type": "markdown",
   "id": "50419104",
   "metadata": {},
   "source": [
    "# Predicting Crime in US Communites\n",
    "## Team member: Bibata Rabba Idi, Fatima Javid, JianHui (Jake) Li "
   ]
  },
  {
   "cell_type": "code",
   "execution_count": 136,
   "id": "5371e14f",
   "metadata": {},
   "outputs": [],
   "source": [
    "# Import libraries\n",
    "import pandas as pd\n",
    "import numpy as np\n",
    "import matplotlib.pyplot as plt\n",
    "import seaborn as sns\n",
    "\n",
    "from sklearn.model_selection import train_test_split\n",
    "from sklearn.ensemble import RandomForestRegressor\n",
    "from sklearn import metrics\n",
    "\n",
    "from sklearn.model_selection import GridSearchCV\n",
    "\n",
    "from sklearn.ensemble import ExtraTreesClassifier\n",
    "from sklearn.feature_selection import SelectFromModel\n",
    "\n",
    "%matplotlib inline"
   ]
  },
  {
   "cell_type": "code",
   "execution_count": 137,
   "id": "5072b97c",
   "metadata": {},
   "outputs": [
    {
     "data": {
      "text/html": [
       "<div>\n",
       "<style scoped>\n",
       "    .dataframe tbody tr th:only-of-type {\n",
       "        vertical-align: middle;\n",
       "    }\n",
       "\n",
       "    .dataframe tbody tr th {\n",
       "        vertical-align: top;\n",
       "    }\n",
       "\n",
       "    .dataframe thead th {\n",
       "        text-align: right;\n",
       "    }\n",
       "</style>\n",
       "<table border=\"1\" class=\"dataframe\">\n",
       "  <thead>\n",
       "    <tr style=\"text-align: right;\">\n",
       "      <th></th>\n",
       "      <th>communityName</th>\n",
       "      <th>state</th>\n",
       "      <th>countyCode</th>\n",
       "      <th>communityCode</th>\n",
       "      <th>population</th>\n",
       "      <th>householdsize</th>\n",
       "      <th>racepctblack</th>\n",
       "      <th>racePctWhite</th>\n",
       "      <th>racePctAsian</th>\n",
       "      <th>racePctHisp</th>\n",
       "      <th>...</th>\n",
       "      <th>burglaries</th>\n",
       "      <th>burglPerPop</th>\n",
       "      <th>larcenies</th>\n",
       "      <th>larcPerPop</th>\n",
       "      <th>autoTheft</th>\n",
       "      <th>autoTheftPerPop</th>\n",
       "      <th>arsons</th>\n",
       "      <th>arsonsPerPop</th>\n",
       "      <th>ViolentCrimesPerPop</th>\n",
       "      <th>nonViolPerPop</th>\n",
       "    </tr>\n",
       "  </thead>\n",
       "  <tbody>\n",
       "    <tr>\n",
       "      <th>0</th>\n",
       "      <td>BerkeleyHeightstownship</td>\n",
       "      <td>NJ</td>\n",
       "      <td>39.0</td>\n",
       "      <td>5320.0</td>\n",
       "      <td>11980</td>\n",
       "      <td>3.10</td>\n",
       "      <td>1.37</td>\n",
       "      <td>91.78</td>\n",
       "      <td>6.50</td>\n",
       "      <td>1.88</td>\n",
       "      <td>...</td>\n",
       "      <td>14.0</td>\n",
       "      <td>114.85</td>\n",
       "      <td>138.0</td>\n",
       "      <td>1132.08</td>\n",
       "      <td>16.0</td>\n",
       "      <td>131.26</td>\n",
       "      <td>2.0</td>\n",
       "      <td>16.41</td>\n",
       "      <td>41.02</td>\n",
       "      <td>1394.59</td>\n",
       "    </tr>\n",
       "    <tr>\n",
       "      <th>1</th>\n",
       "      <td>Marpletownship</td>\n",
       "      <td>PA</td>\n",
       "      <td>45.0</td>\n",
       "      <td>47616.0</td>\n",
       "      <td>23123</td>\n",
       "      <td>2.82</td>\n",
       "      <td>0.80</td>\n",
       "      <td>95.57</td>\n",
       "      <td>3.44</td>\n",
       "      <td>0.85</td>\n",
       "      <td>...</td>\n",
       "      <td>57.0</td>\n",
       "      <td>242.37</td>\n",
       "      <td>376.0</td>\n",
       "      <td>1598.78</td>\n",
       "      <td>26.0</td>\n",
       "      <td>110.55</td>\n",
       "      <td>1.0</td>\n",
       "      <td>4.25</td>\n",
       "      <td>127.56</td>\n",
       "      <td>1955.95</td>\n",
       "    </tr>\n",
       "    <tr>\n",
       "      <th>2</th>\n",
       "      <td>Tigardcity</td>\n",
       "      <td>OR</td>\n",
       "      <td>NaN</td>\n",
       "      <td>NaN</td>\n",
       "      <td>29344</td>\n",
       "      <td>2.43</td>\n",
       "      <td>0.74</td>\n",
       "      <td>94.33</td>\n",
       "      <td>3.43</td>\n",
       "      <td>2.35</td>\n",
       "      <td>...</td>\n",
       "      <td>274.0</td>\n",
       "      <td>758.14</td>\n",
       "      <td>1797.0</td>\n",
       "      <td>4972.19</td>\n",
       "      <td>136.0</td>\n",
       "      <td>376.30</td>\n",
       "      <td>22.0</td>\n",
       "      <td>60.87</td>\n",
       "      <td>218.59</td>\n",
       "      <td>6167.51</td>\n",
       "    </tr>\n",
       "    <tr>\n",
       "      <th>3</th>\n",
       "      <td>Gloversvillecity</td>\n",
       "      <td>NY</td>\n",
       "      <td>35.0</td>\n",
       "      <td>29443.0</td>\n",
       "      <td>16656</td>\n",
       "      <td>2.40</td>\n",
       "      <td>1.70</td>\n",
       "      <td>97.35</td>\n",
       "      <td>0.50</td>\n",
       "      <td>0.70</td>\n",
       "      <td>...</td>\n",
       "      <td>225.0</td>\n",
       "      <td>1301.78</td>\n",
       "      <td>716.0</td>\n",
       "      <td>4142.56</td>\n",
       "      <td>47.0</td>\n",
       "      <td>271.93</td>\n",
       "      <td>NaN</td>\n",
       "      <td>NaN</td>\n",
       "      <td>306.64</td>\n",
       "      <td>NaN</td>\n",
       "    </tr>\n",
       "    <tr>\n",
       "      <th>4</th>\n",
       "      <td>Bemidjicity</td>\n",
       "      <td>MN</td>\n",
       "      <td>7.0</td>\n",
       "      <td>5068.0</td>\n",
       "      <td>11245</td>\n",
       "      <td>2.76</td>\n",
       "      <td>0.53</td>\n",
       "      <td>89.16</td>\n",
       "      <td>1.17</td>\n",
       "      <td>0.52</td>\n",
       "      <td>...</td>\n",
       "      <td>91.0</td>\n",
       "      <td>728.93</td>\n",
       "      <td>1060.0</td>\n",
       "      <td>8490.87</td>\n",
       "      <td>91.0</td>\n",
       "      <td>728.93</td>\n",
       "      <td>5.0</td>\n",
       "      <td>40.05</td>\n",
       "      <td>NaN</td>\n",
       "      <td>9988.79</td>\n",
       "    </tr>\n",
       "  </tbody>\n",
       "</table>\n",
       "<p>5 rows × 146 columns</p>\n",
       "</div>"
      ],
      "text/plain": [
       "             communityName state  countyCode  communityCode  population  \\\n",
       "0  BerkeleyHeightstownship    NJ        39.0         5320.0       11980   \n",
       "1           Marpletownship    PA        45.0        47616.0       23123   \n",
       "2               Tigardcity    OR         NaN            NaN       29344   \n",
       "3         Gloversvillecity    NY        35.0        29443.0       16656   \n",
       "4              Bemidjicity    MN         7.0         5068.0       11245   \n",
       "\n",
       "   householdsize  racepctblack  racePctWhite  racePctAsian  racePctHisp  ...  \\\n",
       "0           3.10          1.37         91.78          6.50         1.88  ...   \n",
       "1           2.82          0.80         95.57          3.44         0.85  ...   \n",
       "2           2.43          0.74         94.33          3.43         2.35  ...   \n",
       "3           2.40          1.70         97.35          0.50         0.70  ...   \n",
       "4           2.76          0.53         89.16          1.17         0.52  ...   \n",
       "\n",
       "   burglaries  burglPerPop  larcenies  larcPerPop  autoTheft  autoTheftPerPop  \\\n",
       "0        14.0       114.85      138.0     1132.08       16.0           131.26   \n",
       "1        57.0       242.37      376.0     1598.78       26.0           110.55   \n",
       "2       274.0       758.14     1797.0     4972.19      136.0           376.30   \n",
       "3       225.0      1301.78      716.0     4142.56       47.0           271.93   \n",
       "4        91.0       728.93     1060.0     8490.87       91.0           728.93   \n",
       "\n",
       "   arsons  arsonsPerPop  ViolentCrimesPerPop  nonViolPerPop  \n",
       "0     2.0         16.41                41.02        1394.59  \n",
       "1     1.0          4.25               127.56        1955.95  \n",
       "2    22.0         60.87               218.59        6167.51  \n",
       "3     NaN           NaN               306.64            NaN  \n",
       "4     5.0         40.05                  NaN        9988.79  \n",
       "\n",
       "[5 rows x 146 columns]"
      ]
     },
     "execution_count": 137,
     "metadata": {},
     "output_type": "execute_result"
    }
   ],
   "source": [
    "# Load data\n",
    "df = pd.read_csv('crimedata.csv')\n",
    "df.head()"
   ]
  },
  {
   "cell_type": "code",
   "execution_count": 138,
   "id": "70f7531e",
   "metadata": {},
   "outputs": [
    {
     "data": {
      "text/plain": [
       "(2215, 146)"
      ]
     },
     "execution_count": 138,
     "metadata": {},
     "output_type": "execute_result"
    }
   ],
   "source": [
    "# Shape of dataframe\n",
    "df.shape"
   ]
  },
  {
   "cell_type": "code",
   "execution_count": 139,
   "id": "ac872b17",
   "metadata": {},
   "outputs": [
    {
     "data": {
      "text/plain": [
       "communityName             0\n",
       "state                     0\n",
       "countyCode             1221\n",
       "communityCode          1224\n",
       "population                0\n",
       "                       ... \n",
       "autoTheftPerPop           3\n",
       "arsons                   91\n",
       "arsonsPerPop             91\n",
       "ViolentCrimesPerPop     221\n",
       "nonViolPerPop            97\n",
       "Length: 146, dtype: int64"
      ]
     },
     "execution_count": 139,
     "metadata": {},
     "output_type": "execute_result"
    }
   ],
   "source": [
    "# Number of nulls from each column\n",
    "df.isnull().sum()"
   ]
  },
  {
   "cell_type": "code",
   "execution_count": 140,
   "id": "3c430396",
   "metadata": {},
   "outputs": [
    {
     "data": {
      "text/plain": [
       "44592"
      ]
     },
     "execution_count": 140,
     "metadata": {},
     "output_type": "execute_result"
    }
   ],
   "source": [
    "# Total number of nulls\n",
    "df.isnull().sum().sum()"
   ]
  },
  {
   "cell_type": "code",
   "execution_count": 141,
   "id": "7cd84c51",
   "metadata": {},
   "outputs": [
    {
     "name": "stdout",
     "output_type": "stream",
     "text": [
      "['countyCode', 'communityCode', 'OtherPerCap', 'LemasSwornFT', 'LemasSwFTPerPop', 'LemasSwFTFieldOps', 'LemasSwFTFieldPerPop', 'LemasTotalReq', 'LemasTotReqPerPop', 'PolicReqPerOffic', 'PolicPerPop', 'RacialMatchCommPol', 'PctPolicWhite', 'PctPolicBlack', 'PctPolicHisp', 'PctPolicAsian', 'PctPolicMinor', 'OfficAssgnDrugUnits', 'NumKindsDrugsSeiz', 'PolicAveOTWorked', 'PolicCars', 'PolicOperBudg', 'LemasPctPolicOnPatr', 'LemasGangUnitDeploy', 'PolicBudgPerPop', 'rapes', 'rapesPerPop', 'robberies', 'robbbPerPop', 'assaults', 'assaultPerPop', 'burglaries', 'burglPerPop', 'larcenies', 'larcPerPop', 'autoTheft', 'autoTheftPerPop', 'arsons', 'arsonsPerPop', 'ViolentCrimesPerPop', 'nonViolPerPop']\n"
     ]
    }
   ],
   "source": [
    "# Make a list of columns that contain nulls\n",
    "cols_with_nulls = df.columns[df.isna().any()].tolist()\n",
    "print(cols_with_nulls)"
   ]
  },
  {
   "cell_type": "code",
   "execution_count": 142,
   "id": "a2a97c22",
   "metadata": {},
   "outputs": [
    {
     "data": {
      "text/plain": [
       "countyCode              1221\n",
       "communityCode           1224\n",
       "OtherPerCap                1\n",
       "LemasSwornFT            1872\n",
       "LemasSwFTPerPop         1872\n",
       "LemasSwFTFieldOps       1872\n",
       "LemasSwFTFieldPerPop    1872\n",
       "LemasTotalReq           1872\n",
       "LemasTotReqPerPop       1872\n",
       "PolicReqPerOffic        1872\n",
       "PolicPerPop             1872\n",
       "RacialMatchCommPol      1872\n",
       "PctPolicWhite           1872\n",
       "PctPolicBlack           1872\n",
       "PctPolicHisp            1872\n",
       "PctPolicAsian           1872\n",
       "PctPolicMinor           1872\n",
       "OfficAssgnDrugUnits     1872\n",
       "NumKindsDrugsSeiz       1872\n",
       "PolicAveOTWorked        1872\n",
       "PolicCars               1872\n",
       "PolicOperBudg           1872\n",
       "LemasPctPolicOnPatr     1872\n",
       "LemasGangUnitDeploy     1872\n",
       "PolicBudgPerPop         1872\n",
       "rapes                    208\n",
       "rapesPerPop              208\n",
       "robberies                  1\n",
       "robbbPerPop                1\n",
       "assaults                  13\n",
       "assaultPerPop             13\n",
       "burglaries                 3\n",
       "burglPerPop                3\n",
       "larcenies                  3\n",
       "larcPerPop                 3\n",
       "autoTheft                  3\n",
       "autoTheftPerPop            3\n",
       "arsons                    91\n",
       "arsonsPerPop              91\n",
       "ViolentCrimesPerPop      221\n",
       "nonViolPerPop             97\n",
       "dtype: int64"
      ]
     },
     "execution_count": 142,
     "metadata": {},
     "output_type": "execute_result"
    }
   ],
   "source": [
    "# Show number of nulls for each column that contain nulls\n",
    "df[cols_with_nulls].isnull().sum()"
   ]
  },
  {
   "cell_type": "code",
   "execution_count": 143,
   "id": "ccec0617",
   "metadata": {},
   "outputs": [
    {
     "name": "stdout",
     "output_type": "stream",
     "text": [
      "Columns before dropping: 146\n",
      "Columns after dropping: 122\n"
     ]
    }
   ],
   "source": [
    "# Remove columns below PolicBudgPerPop because we don't want to drop those and OtherPerCap\n",
    "del cols_with_nulls[25:]\n",
    "del cols_with_nulls[2]\n",
    "\n",
    "# Drop columns using cols_with_nulls\n",
    "print(\"Columns before dropping:\", df.shape[1])\n",
    "df.drop(cols_with_nulls, axis=1, inplace=True)\n",
    "print(\"Columns after dropping:\", df.shape[1])"
   ]
  },
  {
   "cell_type": "code",
   "execution_count": 144,
   "id": "d957213d",
   "metadata": {},
   "outputs": [
    {
     "name": "stdout",
     "output_type": "stream",
     "text": [
      "['OtherPerCap', 'rapes', 'rapesPerPop', 'robberies', 'robbbPerPop', 'assaults', 'assaultPerPop', 'burglaries', 'burglPerPop', 'larcenies', 'larcPerPop', 'autoTheft', 'autoTheftPerPop', 'arsons', 'arsonsPerPop', 'ViolentCrimesPerPop', 'nonViolPerPop']\n"
     ]
    },
    {
     "data": {
      "text/plain": [
       "OtherPerCap              1\n",
       "rapes                  208\n",
       "rapesPerPop            208\n",
       "robberies                1\n",
       "robbbPerPop              1\n",
       "assaults                13\n",
       "assaultPerPop           13\n",
       "burglaries               3\n",
       "burglPerPop              3\n",
       "larcenies                3\n",
       "larcPerPop               3\n",
       "autoTheft                3\n",
       "autoTheftPerPop          3\n",
       "arsons                  91\n",
       "arsonsPerPop            91\n",
       "ViolentCrimesPerPop    221\n",
       "nonViolPerPop           97\n",
       "dtype: int64"
      ]
     },
     "execution_count": 144,
     "metadata": {},
     "output_type": "execute_result"
    }
   ],
   "source": [
    "# Make a list of columns that contain nulls again to make sure\n",
    "cols_with_nulls = df.columns[df.isna().any()].tolist()\n",
    "print(cols_with_nulls)\n",
    "\n",
    "df[cols_with_nulls].isnull().sum()"
   ]
  },
  {
   "cell_type": "code",
   "execution_count": 145,
   "id": "0bcd3016",
   "metadata": {},
   "outputs": [],
   "source": [
    "# Fill in NaN with -999\n",
    "df[cols_with_nulls] = df[cols_with_nulls].fillna(-999)"
   ]
  },
  {
   "cell_type": "code",
   "execution_count": 146,
   "id": "bffd4120-ea66-4ed1-89dd-11d01355c2cf",
   "metadata": {},
   "outputs": [
    {
     "data": {
      "text/plain": [
       "OtherPerCap            0\n",
       "rapes                  0\n",
       "rapesPerPop            0\n",
       "robberies              0\n",
       "robbbPerPop            0\n",
       "assaults               0\n",
       "assaultPerPop          0\n",
       "burglaries             0\n",
       "burglPerPop            0\n",
       "larcenies              0\n",
       "larcPerPop             0\n",
       "autoTheft              0\n",
       "autoTheftPerPop        0\n",
       "arsons                 0\n",
       "arsonsPerPop           0\n",
       "ViolentCrimesPerPop    0\n",
       "nonViolPerPop          0\n",
       "dtype: int64"
      ]
     },
     "execution_count": 146,
     "metadata": {},
     "output_type": "execute_result"
    }
   ],
   "source": [
    "# Check number of nulls\n",
    "df[cols_with_nulls].isnull().sum()"
   ]
  },
  {
   "cell_type": "code",
   "execution_count": 147,
   "id": "7ea2d65c",
   "metadata": {},
   "outputs": [
    {
     "data": {
      "text/plain": [
       "0"
      ]
     },
     "execution_count": 147,
     "metadata": {},
     "output_type": "execute_result"
    }
   ],
   "source": [
    "# Check for duplicates\n",
    "df.duplicated().sum()"
   ]
  },
  {
   "cell_type": "code",
   "execution_count": 148,
   "id": "b0fe9c0b",
   "metadata": {},
   "outputs": [],
   "source": [
    "# Create a column for the sum of all crimes\n",
    "df[\"total_crime\"] = df[\"murders\"] + df[\"rapes\"] + df[\"robberies\"] + df[\"assaults\"] + df[\"burglaries\"] + df[\"larcenies\"] + df[\"autoTheft\"] + df[\"arsons\"]"
   ]
  },
  {
   "cell_type": "code",
   "execution_count": 149,
   "id": "728d55b7",
   "metadata": {
    "scrolled": false
   },
   "outputs": [
    {
     "data": {
      "text/plain": [
       "<AxesSubplot: ylabel='total_crime'>"
      ]
     },
     "execution_count": 149,
     "metadata": {},
     "output_type": "execute_result"
    },
    {
     "data": {
      "image/png": "[encoded data removed]",
      "text/plain": [
       "<Figure size 640x480 with 1 Axes>"
      ]
     },
     "metadata": {},
     "output_type": "display_data"
    }
   ],
   "source": [
    "# Boxplot for sum of all crimes\n",
    "sns.boxplot(data=df, y='total_crime')"
   ]
  },
  {
   "cell_type": "code",
   "execution_count": 150,
   "id": "1e543c46",
   "metadata": {},
   "outputs": [],
   "source": [
    "# Keep on records where total_crime is greater than 0\n",
    "df = df[df['total_crime'] > 0]"
   ]
  },
  {
   "cell_type": "code",
   "execution_count": 151,
   "id": "2317a8ec",
   "metadata": {
    "scrolled": false
   },
   "outputs": [
    {
     "data": {
      "text/plain": [
       "<AxesSubplot: >"
      ]
     },
     "execution_count": 151,
     "metadata": {},
     "output_type": "execute_result"
    },
    {
     "data": {
      "image/png": "[encoded data removed]",
      "text/plain": [
       "<Figure size 640x480 with 1 Axes>"
      ]
     },
     "metadata": {},
     "output_type": "display_data"
    }
   ],
   "source": [
    "# Check distribution of data using histogram\n",
    "df.total_crime.hist(bins=10)"
   ]
  },
  {
   "cell_type": "code",
   "execution_count": 152,
   "id": "a94408f8",
   "metadata": {},
   "outputs": [],
   "source": [
    "# Check boxplot again\n",
    "#sns.boxplot(data=df, y='total_crime')"
   ]
  },
  {
   "cell_type": "code",
   "execution_count": 204,
   "id": "96291110",
   "metadata": {
    "tags": []
   },
   "outputs": [
    {
     "name": "stdout",
     "output_type": "stream",
     "text": [
      "['communityName', 'state', 'population', 'householdsize', 'racepctblack', 'racePctWhite', 'racePctAsian', 'racePctHisp', 'agePct12t21', 'agePct12t29', 'agePct16t24', 'agePct65up', 'numbUrban', 'pctUrban', 'medIncome', 'pctWWage', 'pctWFarmSelf', 'pctWInvInc', 'pctWSocSec', 'pctWPubAsst', 'pctWRetire', 'medFamInc', 'perCapInc', 'whitePerCap', 'blackPerCap', 'indianPerCap', 'AsianPerCap', 'OtherPerCap', 'HispPerCap', 'NumUnderPov', 'PctPopUnderPov', 'PctLess9thGrade', 'PctNotHSGrad', 'PctBSorMore', 'PctUnemployed', 'PctEmploy', 'PctEmplManu', 'PctEmplProfServ', 'PctOccupManu', 'PctOccupMgmtProf', 'MalePctDivorce', 'MalePctNevMarr', 'FemalePctDiv', 'TotalPctDiv', 'PersPerFam', 'PctFam2Par', 'PctKids2Par', 'PctYoungKids2Par', 'PctTeen2Par', 'PctWorkMomYoungKids', 'PctWorkMom', 'NumKidsBornNeverMar', 'PctKidsBornNeverMar', 'NumImmig', 'PctImmigRecent', 'PctImmigRec5', 'PctImmigRec8', 'PctImmigRec10', 'PctRecentImmig', 'PctRecImmig5', 'PctRecImmig8', 'PctRecImmig10', 'PctSpeakEnglOnly', 'PctNotSpeakEnglWell', 'PctLargHouseFam', 'PctLargHouseOccup', 'PersPerOccupHous', 'PersPerOwnOccHous', 'PersPerRentOccHous', 'PctPersOwnOccup', 'PctPersDenseHous', 'PctHousLess3BR', 'MedNumBR', 'HousVacant', 'PctHousOccup', 'PctHousOwnOcc', 'PctVacantBoarded', 'PctVacMore6Mos', 'MedYrHousBuilt', 'PctHousNoPhone', 'PctWOFullPlumb', 'OwnOccLowQuart', 'OwnOccMedVal', 'OwnOccHiQuart', 'OwnOccQrange', 'RentLowQ', 'RentMedian', 'RentHighQ', 'RentQrange', 'MedRent', 'MedRentPctHousInc', 'MedOwnCostPctInc', 'MedOwnCostPctIncNoMtg', 'NumInShelters', 'NumStreet', 'PctForeignBorn', 'PctBornSameState', 'PctSameHouse85', 'PctSameCity85', 'PctSameState85', 'LandArea', 'PopDens', 'PctUsePubTrans', 'LemasPctOfficDrugUn', 'murders', 'murdPerPop', 'rapes', 'rapesPerPop', 'robberies', 'robbbPerPop', 'assaults', 'assaultPerPop', 'burglaries', 'burglPerPop', 'larcenies', 'larcPerPop', 'autoTheft', 'autoTheftPerPop', 'arsons', 'arsonsPerPop', 'ViolentCrimesPerPop', 'nonViolPerPop', 'total_crime']\n"
     ]
    }
   ],
   "source": [
    "# Define all_features using all the columns in the dataframe\n",
    "all_features = df.columns.tolist()\n",
    "print(all_features)"
   ]
  },
  {
   "cell_type": "code",
   "execution_count": 205,
   "id": "581086b1",
   "metadata": {},
   "outputs": [
    {
     "name": "stdout",
     "output_type": "stream",
     "text": [
      "['population', 'householdsize', 'racepctblack', 'racePctWhite', 'racePctAsian', 'racePctHisp', 'agePct12t21', 'agePct12t29', 'agePct16t24', 'agePct65up', 'numbUrban', 'pctUrban', 'medIncome', 'pctWWage', 'pctWFarmSelf', 'pctWInvInc', 'pctWSocSec', 'pctWPubAsst', 'pctWRetire', 'medFamInc', 'perCapInc', 'whitePerCap', 'blackPerCap', 'indianPerCap', 'AsianPerCap', 'OtherPerCap', 'HispPerCap', 'NumUnderPov', 'PctPopUnderPov', 'PctLess9thGrade', 'PctNotHSGrad', 'PctBSorMore', 'PctUnemployed', 'PctEmploy', 'PctEmplManu', 'PctEmplProfServ', 'PctOccupManu', 'PctOccupMgmtProf', 'MalePctDivorce', 'MalePctNevMarr', 'FemalePctDiv', 'TotalPctDiv', 'PersPerFam', 'PctFam2Par', 'PctKids2Par', 'PctYoungKids2Par', 'PctTeen2Par', 'PctWorkMomYoungKids', 'PctWorkMom', 'NumKidsBornNeverMar', 'PctKidsBornNeverMar', 'NumImmig', 'PctImmigRecent', 'PctImmigRec5', 'PctImmigRec8', 'PctImmigRec10', 'PctRecentImmig', 'PctRecImmig5', 'PctRecImmig8', 'PctRecImmig10', 'PctSpeakEnglOnly', 'PctNotSpeakEnglWell', 'PctLargHouseFam', 'PctLargHouseOccup', 'PersPerOccupHous', 'PersPerOwnOccHous', 'PersPerRentOccHous', 'PctPersOwnOccup', 'PctPersDenseHous', 'PctHousLess3BR', 'MedNumBR', 'HousVacant', 'PctHousOccup', 'PctHousOwnOcc', 'PctVacantBoarded', 'PctVacMore6Mos', 'MedYrHousBuilt', 'PctHousNoPhone', 'PctWOFullPlumb', 'OwnOccLowQuart', 'OwnOccMedVal', 'OwnOccHiQuart', 'OwnOccQrange', 'RentLowQ', 'RentMedian', 'RentHighQ', 'RentQrange', 'MedRent', 'MedRentPctHousInc', 'MedOwnCostPctInc', 'MedOwnCostPctIncNoMtg', 'NumInShelters', 'NumStreet', 'PctForeignBorn', 'PctBornSameState', 'PctSameHouse85', 'PctSameCity85', 'PctSameState85', 'LandArea', 'PopDens', 'PctUsePubTrans', 'LemasPctOfficDrugUn']\n",
      "\n",
      " Number of features after removing unnecessary features:  102\n"
     ]
    }
   ],
   "source": [
    "del all_features[104:]\n",
    "del all_features[0:2]\n",
    "print(all_features)\n",
    "print(\"\\n Number of features after removing unnecessary features: \", len(all_features))"
   ]
  },
  {
   "cell_type": "code",
   "execution_count": 183,
   "id": "c4063728",
   "metadata": {},
   "outputs": [
    {
     "name": "stdout",
     "output_type": "stream",
     "text": [
      "['population', 'householdsize', 'agePct12t21', 'agePct12t29', 'agePct16t24', 'agePct65up', 'numbUrban', 'pctUrban', 'medIncome', 'pctWWage', 'pctWFarmSelf', 'pctWInvInc', 'pctWSocSec', 'pctWPubAsst', 'pctWRetire', 'medFamInc', 'perCapInc', 'NumUnderPov', 'PctPopUnderPov', 'PctLess9thGrade', 'PctNotHSGrad', 'PctBSorMore', 'PctUnemployed', 'PctEmploy', 'PctEmplManu', 'PctEmplProfServ', 'PctOccupManu', 'PctOccupMgmtProf', 'MalePctDivorce', 'MalePctNevMarr', 'FemalePctDiv', 'TotalPctDiv', 'PersPerFam', 'PctFam2Par', 'PctKids2Par', 'PctYoungKids2Par', 'PctTeen2Par', 'PctWorkMomYoungKids', 'PctWorkMom', 'NumKidsBornNeverMar', 'PctKidsBornNeverMar', 'PctImmigRecent', 'PctImmigRec5', 'PctImmigRec8', 'PctImmigRec10', 'PctRecentImmig', 'PctRecImmig5', 'PctRecImmig8', 'PctRecImmig10', 'PctSpeakEnglOnly', 'PctNotSpeakEnglWell', 'PctLargHouseFam', 'PctLargHouseOccup', 'PersPerOccupHous', 'PersPerOwnOccHous', 'PersPerRentOccHous', 'PctPersOwnOccup', 'PctPersDenseHous', 'PctHousLess3BR', 'MedNumBR', 'HousVacant', 'PctHousOccup', 'PctHousOwnOcc', 'PctVacantBoarded', 'PctVacMore6Mos', 'MedYrHousBuilt', 'PctHousNoPhone', 'PctWOFullPlumb', 'OwnOccLowQuart', 'OwnOccMedVal', 'OwnOccHiQuart', 'OwnOccQrange', 'RentLowQ', 'RentMedian', 'RentHighQ', 'RentQrange', 'MedRent', 'MedRentPctHousInc', 'MedOwnCostPctInc', 'MedOwnCostPctIncNoMtg', 'NumInShelters', 'NumStreet', 'PctForeignBorn', 'PctBornSameState', 'PctSameHouse85', 'PctSameCity85', 'PctSameState85', 'LandArea', 'PopDens', 'PctUsePubTrans', 'LemasPctOfficDrugUn']\n",
      "\n",
      " Number of features after removing unnecessary features:  91\n"
     ]
    }
   ],
   "source": [
    "# Drop unnecessary columns\n",
    "# del all_features[104:]\n",
    "# del all_features[0:2]\n",
    "# del all_features[2:6]\n",
    "# del all_features[17:23]\n",
    "# all_features.remove(\"NumImmig\")\n",
    "# print(all_features)\n",
    "# print(\"\\n Number of features after removing unnecessary features: \", len(all_features))"
   ]
  },
  {
   "cell_type": "code",
   "execution_count": 206,
   "id": "4654778c",
   "metadata": {},
   "outputs": [
    {
     "data": {
      "text/html": [
       "<style>#sk-container-id-16 {color: black;background-color: white;}#sk-container-id-16 pre{padding: 0;}#sk-container-id-16 div.sk-toggleable {background-color: white;}#sk-container-id-16 label.sk-toggleable__label {cursor: pointer;display: block;width: 100%;margin-bottom: 0;padding: 0.3em;box-sizing: border-box;text-align: center;}#sk-container-id-16 label.sk-toggleable__label-arrow:before {content: \"▸\";float: left;margin-right: 0.25em;color: #696969;}#sk-container-id-16 label.sk-toggleable__label-arrow:hover:before {color: black;}#sk-container-id-16 div.sk-estimator:hover label.sk-toggleable__label-arrow:before {color: black;}#sk-container-id-16 div.sk-toggleable__content {max-height: 0;max-width: 0;overflow: hidden;text-align: left;background-color: #f0f8ff;}#sk-container-id-16 div.sk-toggleable__content pre {margin: 0.2em;color: black;border-radius: 0.25em;background-color: #f0f8ff;}#sk-container-id-16 input.sk-toggleable__control:checked~div.sk-toggleable__content {max-height: 200px;max-width: 100%;overflow: auto;}#sk-container-id-16 input.sk-toggleable__control:checked~label.sk-toggleable__label-arrow:before {content: \"▾\";}#sk-container-id-16 div.sk-estimator input.sk-toggleable__control:checked~label.sk-toggleable__label {background-color: #d4ebff;}#sk-container-id-16 div.sk-label input.sk-toggleable__control:checked~label.sk-toggleable__label {background-color: #d4ebff;}#sk-container-id-16 input.sk-hidden--visually {border: 0;clip: rect(1px 1px 1px 1px);clip: rect(1px, 1px, 1px, 1px);height: 1px;margin: -1px;overflow: hidden;padding: 0;position: absolute;width: 1px;}#sk-container-id-16 div.sk-estimator {font-family: monospace;background-color: #f0f8ff;border: 1px dotted black;border-radius: 0.25em;box-sizing: border-box;margin-bottom: 0.5em;}#sk-container-id-16 div.sk-estimator:hover {background-color: #d4ebff;}#sk-container-id-16 div.sk-parallel-item::after {content: \"\";width: 100%;border-bottom: 1px solid gray;flex-grow: 1;}#sk-container-id-16 div.sk-label:hover label.sk-toggleable__label {background-color: #d4ebff;}#sk-container-id-16 div.sk-serial::before {content: \"\";position: absolute;border-left: 1px solid gray;box-sizing: border-box;top: 0;bottom: 0;left: 50%;z-index: 0;}#sk-container-id-16 div.sk-serial {display: flex;flex-direction: column;align-items: center;background-color: white;padding-right: 0.2em;padding-left: 0.2em;position: relative;}#sk-container-id-16 div.sk-item {position: relative;z-index: 1;}#sk-container-id-16 div.sk-parallel {display: flex;align-items: stretch;justify-content: center;background-color: white;position: relative;}#sk-container-id-16 div.sk-item::before, #sk-container-id-16 div.sk-parallel-item::before {content: \"\";position: absolute;border-left: 1px solid gray;box-sizing: border-box;top: 0;bottom: 0;left: 50%;z-index: -1;}#sk-container-id-16 div.sk-parallel-item {display: flex;flex-direction: column;z-index: 1;position: relative;background-color: white;}#sk-container-id-16 div.sk-parallel-item:first-child::after {align-self: flex-end;width: 50%;}#sk-container-id-16 div.sk-parallel-item:last-child::after {align-self: flex-start;width: 50%;}#sk-container-id-16 div.sk-parallel-item:only-child::after {width: 0;}#sk-container-id-16 div.sk-dashed-wrapped {border: 1px dashed gray;margin: 0 0.4em 0.5em 0.4em;box-sizing: border-box;padding-bottom: 0.4em;background-color: white;}#sk-container-id-16 div.sk-label label {font-family: monospace;font-weight: bold;display: inline-block;line-height: 1.2em;}#sk-container-id-16 div.sk-label-container {text-align: center;}#sk-container-id-16 div.sk-container {/* jupyter's `normalize.less` sets `[hidden] { display: none; }` but bootstrap.min.css set `[hidden] { display: none !important; }` so we also need the `!important` here to be able to override the default hidden behavior on the sphinx rendered scikit-learn.org. See: https://github.com/scikit-learn/scikit-learn/issues/21755 */display: inline-block !important;position: relative;}#sk-container-id-16 div.sk-text-repr-fallback {display: none;}</style><div id=\"sk-container-id-16\" class=\"sk-top-container\"><div class=\"sk-text-repr-fallback\"><pre>RandomForestRegressor(random_state=2)</pre><b>In a Jupyter environment, please rerun this cell to show the HTML representation or trust the notebook. <br />On GitHub, the HTML representation is unable to render, please try loading this page with nbviewer.org.</b></div><div class=\"sk-container\" hidden><div class=\"sk-item\"><div class=\"sk-estimator sk-toggleable\"><input class=\"sk-toggleable__control sk-hidden--visually\" id=\"sk-estimator-id-16\" type=\"checkbox\" checked><label for=\"sk-estimator-id-16\" class=\"sk-toggleable__label sk-toggleable__label-arrow\">RandomForestRegressor</label><div class=\"sk-toggleable__content\"><pre>RandomForestRegressor(random_state=2)</pre></div></div></div></div></div>"
      ],
      "text/plain": [
       "RandomForestRegressor(random_state=2)"
      ]
     },
     "execution_count": 206,
     "metadata": {},
     "output_type": "execute_result"
    }
   ],
   "source": [
    "# Initial random forest model using all features\n",
    "X = df[all_features]\n",
    "y = df[\"total_crime\"]\n",
    "\n",
    "X_train, X_test, y_train, y_test = train_test_split(X, y, test_size=0.2, random_state=1)\n",
    "\n",
    "model = RandomForestRegressor(random_state=2)\n",
    "model.fit(X_train, y_train)"
   ]
  },
  {
   "cell_type": "code",
   "execution_count": 207,
   "id": "f501153c",
   "metadata": {},
   "outputs": [
    {
     "name": "stdout",
     "output_type": "stream",
     "text": [
      "R-Squared Score: 0.9229541487297848\n",
      "Mean Absolute Error: 951.9706506024098\n"
     ]
    }
   ],
   "source": [
    "# R^2 and mean absolute error score\n",
    "y_pred = model.predict(X_test)\n",
    "\n",
    "r_squared = metrics.r2_score(y_test, y_pred)\n",
    "print('R-Squared Score:', r_squared)\n",
    "\n",
    "mae = metrics.mean_absolute_error(y_test, y_pred)\n",
    "print(\"Mean Absolute Error:\", mae)"
   ]
  },
  {
   "cell_type": "code",
   "execution_count": 208,
   "id": "c15ecf5f",
   "metadata": {
    "scrolled": true
   },
   "outputs": [
    {
     "name": "stdout",
     "output_type": "stream",
     "text": [
      "NumUnderPov              0.236329\n",
      "numbUrban                0.189606\n",
      "population               0.137983\n",
      "NumKidsBornNeverMar      0.089096\n",
      "HousVacant               0.087956\n",
      "NumInShelters            0.079247\n",
      "NumImmig                 0.069756\n",
      "NumStreet                0.032305\n",
      "PctUsePubTrans           0.015332\n",
      "PopDens                  0.008643\n",
      "agePct12t29              0.003319\n",
      "PersPerFam               0.003226\n",
      "PctNotHSGrad             0.002905\n",
      "racePctAsian             0.002860\n",
      "LemasPctOfficDrugUn      0.002606\n",
      "PctWorkMom               0.002064\n",
      "PctOccupManu             0.001825\n",
      "agePct65up               0.001804\n",
      "MalePctDivorce           0.001322\n",
      "PctWorkMomYoungKids      0.001224\n",
      "PctPersDenseHous         0.001224\n",
      "TotalPctDiv              0.001190\n",
      "MalePctNevMarr           0.001143\n",
      "PctOccupMgmtProf         0.001115\n",
      "PctPopUnderPov           0.001111\n",
      "PctEmplProfServ          0.001088\n",
      "pctWFarmSelf             0.001009\n",
      "racepctblack             0.000965\n",
      "PctHousLess3BR           0.000951\n",
      "PctBornSameState         0.000929\n",
      "pctWRetire               0.000923\n",
      "PctLargHouseOccup        0.000903\n",
      "pctWPubAsst              0.000901\n",
      "PctRecImmig5             0.000887\n",
      "OwnOccMedVal             0.000860\n",
      "PctNotSpeakEnglWell      0.000849\n",
      "LandArea                 0.000815\n",
      "agePct12t21              0.000765\n",
      "HispPerCap               0.000757\n",
      "PersPerOwnOccHous        0.000753\n",
      "whitePerCap              0.000733\n",
      "PctSameState85           0.000647\n",
      "AsianPerCap              0.000602\n",
      "PctHousNoPhone           0.000578\n",
      "PctWOFullPlumb           0.000484\n",
      "PctEmplManu              0.000472\n",
      "FemalePctDiv             0.000436\n",
      "PctPersOwnOccup          0.000288\n",
      "PctKidsBornNeverMar      0.000254\n",
      "PctSameCity85            0.000253\n",
      "PctHousOwnOcc            0.000246\n",
      "PctKids2Par              0.000236\n",
      "racePctHisp              0.000224\n",
      "medFamInc                0.000223\n",
      "racePctWhite             0.000212\n",
      "blackPerCap              0.000207\n",
      "PctUnemployed            0.000204\n",
      "MedRent                  0.000195\n",
      "RentHighQ                0.000192\n",
      "pctWWage                 0.000178\n",
      "indianPerCap             0.000173\n",
      "PersPerOccupHous         0.000171\n",
      "OtherPerCap              0.000163\n",
      "PctLargHouseFam          0.000161\n",
      "MedOwnCostPctInc         0.000155\n",
      "PctVacantBoarded         0.000152\n",
      "MedYrHousBuilt           0.000149\n",
      "PctHousOccup             0.000147\n",
      "PctRecImmig10            0.000144\n",
      "PctBSorMore              0.000142\n",
      "PctRecImmig8             0.000138\n",
      "MedOwnCostPctIncNoMtg    0.000132\n",
      "PersPerRentOccHous       0.000131\n",
      "PctEmploy                0.000130\n",
      "OwnOccQrange             0.000126\n",
      "RentQrange               0.000126\n",
      "PctImmigRec5             0.000126\n",
      "PctYoungKids2Par         0.000125\n",
      "perCapInc                0.000122\n",
      "PctTeen2Par              0.000122\n",
      "OwnOccLowQuart           0.000115\n",
      "OwnOccHiQuart            0.000112\n",
      "PctImmigRec8             0.000111\n",
      "MedRentPctHousInc        0.000109\n",
      "PctSpeakEnglOnly         0.000107\n",
      "medIncome                0.000100\n",
      "PctFam2Par               0.000097\n",
      "pctWSocSec               0.000095\n",
      "PctImmigRecent           0.000095\n",
      "RentLowQ                 0.000089\n",
      "PctVacMore6Mos           0.000087\n",
      "PctImmigRec10            0.000087\n",
      "agePct16t24              0.000084\n",
      "pctWInvInc               0.000082\n",
      "RentMedian               0.000064\n",
      "householdsize            0.000062\n",
      "PctRecentImmig           0.000059\n",
      "PctLess9thGrade          0.000058\n",
      "PctSameHouse85           0.000057\n",
      "PctForeignBorn           0.000056\n",
      "pctUrban                 0.000020\n",
      "MedNumBR                 0.000005\n",
      "dtype: float64\n"
     ]
    }
   ],
   "source": [
    "# Check feature importance\n",
    "feature_imp = pd.Series(model.feature_importances_, index=all_features).sort_values(ascending=False)\n",
    "with pd.option_context('display.max_rows', None, 'display.max_columns', None):  # more options can be specified also\n",
    "    print(feature_imp)"
   ]
  },
  {
   "cell_type": "code",
   "execution_count": 209,
   "id": "fea7b859",
   "metadata": {},
   "outputs": [
    {
     "data": {
      "text/plain": [
       "['NumUnderPov', 'numbUrban', 'population', 'NumKidsBornNeverMar', 'HousVacant']"
      ]
     },
     "execution_count": 209,
     "metadata": {},
     "output_type": "execute_result"
    }
   ],
   "source": [
    "# Define the top 5 features to use for our model again to see if scores improved\n",
    "list_of_features = feature_imp.index.tolist()\n",
    "top_5_features = list_of_features[:5]\n",
    "top_5_features"
   ]
  },
  {
   "cell_type": "code",
   "execution_count": 210,
   "id": "89f6830c",
   "metadata": {},
   "outputs": [
    {
     "data": {
      "text/html": [
       "<style>#sk-container-id-17 {color: black;background-color: white;}#sk-container-id-17 pre{padding: 0;}#sk-container-id-17 div.sk-toggleable {background-color: white;}#sk-container-id-17 label.sk-toggleable__label {cursor: pointer;display: block;width: 100%;margin-bottom: 0;padding: 0.3em;box-sizing: border-box;text-align: center;}#sk-container-id-17 label.sk-toggleable__label-arrow:before {content: \"▸\";float: left;margin-right: 0.25em;color: #696969;}#sk-container-id-17 label.sk-toggleable__label-arrow:hover:before {color: black;}#sk-container-id-17 div.sk-estimator:hover label.sk-toggleable__label-arrow:before {color: black;}#sk-container-id-17 div.sk-toggleable__content {max-height: 0;max-width: 0;overflow: hidden;text-align: left;background-color: #f0f8ff;}#sk-container-id-17 div.sk-toggleable__content pre {margin: 0.2em;color: black;border-radius: 0.25em;background-color: #f0f8ff;}#sk-container-id-17 input.sk-toggleable__control:checked~div.sk-toggleable__content {max-height: 200px;max-width: 100%;overflow: auto;}#sk-container-id-17 input.sk-toggleable__control:checked~label.sk-toggleable__label-arrow:before {content: \"▾\";}#sk-container-id-17 div.sk-estimator input.sk-toggleable__control:checked~label.sk-toggleable__label {background-color: #d4ebff;}#sk-container-id-17 div.sk-label input.sk-toggleable__control:checked~label.sk-toggleable__label {background-color: #d4ebff;}#sk-container-id-17 input.sk-hidden--visually {border: 0;clip: rect(1px 1px 1px 1px);clip: rect(1px, 1px, 1px, 1px);height: 1px;margin: -1px;overflow: hidden;padding: 0;position: absolute;width: 1px;}#sk-container-id-17 div.sk-estimator {font-family: monospace;background-color: #f0f8ff;border: 1px dotted black;border-radius: 0.25em;box-sizing: border-box;margin-bottom: 0.5em;}#sk-container-id-17 div.sk-estimator:hover {background-color: #d4ebff;}#sk-container-id-17 div.sk-parallel-item::after {content: \"\";width: 100%;border-bottom: 1px solid gray;flex-grow: 1;}#sk-container-id-17 div.sk-label:hover label.sk-toggleable__label {background-color: #d4ebff;}#sk-container-id-17 div.sk-serial::before {content: \"\";position: absolute;border-left: 1px solid gray;box-sizing: border-box;top: 0;bottom: 0;left: 50%;z-index: 0;}#sk-container-id-17 div.sk-serial {display: flex;flex-direction: column;align-items: center;background-color: white;padding-right: 0.2em;padding-left: 0.2em;position: relative;}#sk-container-id-17 div.sk-item {position: relative;z-index: 1;}#sk-container-id-17 div.sk-parallel {display: flex;align-items: stretch;justify-content: center;background-color: white;position: relative;}#sk-container-id-17 div.sk-item::before, #sk-container-id-17 div.sk-parallel-item::before {content: \"\";position: absolute;border-left: 1px solid gray;box-sizing: border-box;top: 0;bottom: 0;left: 50%;z-index: -1;}#sk-container-id-17 div.sk-parallel-item {display: flex;flex-direction: column;z-index: 1;position: relative;background-color: white;}#sk-container-id-17 div.sk-parallel-item:first-child::after {align-self: flex-end;width: 50%;}#sk-container-id-17 div.sk-parallel-item:last-child::after {align-self: flex-start;width: 50%;}#sk-container-id-17 div.sk-parallel-item:only-child::after {width: 0;}#sk-container-id-17 div.sk-dashed-wrapped {border: 1px dashed gray;margin: 0 0.4em 0.5em 0.4em;box-sizing: border-box;padding-bottom: 0.4em;background-color: white;}#sk-container-id-17 div.sk-label label {font-family: monospace;font-weight: bold;display: inline-block;line-height: 1.2em;}#sk-container-id-17 div.sk-label-container {text-align: center;}#sk-container-id-17 div.sk-container {/* jupyter's `normalize.less` sets `[hidden] { display: none; }` but bootstrap.min.css set `[hidden] { display: none !important; }` so we also need the `!important` here to be able to override the default hidden behavior on the sphinx rendered scikit-learn.org. See: https://github.com/scikit-learn/scikit-learn/issues/21755 */display: inline-block !important;position: relative;}#sk-container-id-17 div.sk-text-repr-fallback {display: none;}</style><div id=\"sk-container-id-17\" class=\"sk-top-container\"><div class=\"sk-text-repr-fallback\"><pre>RandomForestRegressor(random_state=2)</pre><b>In a Jupyter environment, please rerun this cell to show the HTML representation or trust the notebook. <br />On GitHub, the HTML representation is unable to render, please try loading this page with nbviewer.org.</b></div><div class=\"sk-container\" hidden><div class=\"sk-item\"><div class=\"sk-estimator sk-toggleable\"><input class=\"sk-toggleable__control sk-hidden--visually\" id=\"sk-estimator-id-17\" type=\"checkbox\" checked><label for=\"sk-estimator-id-17\" class=\"sk-toggleable__label sk-toggleable__label-arrow\">RandomForestRegressor</label><div class=\"sk-toggleable__content\"><pre>RandomForestRegressor(random_state=2)</pre></div></div></div></div></div>"
      ],
      "text/plain": [
       "RandomForestRegressor(random_state=2)"
      ]
     },
     "execution_count": 210,
     "metadata": {},
     "output_type": "execute_result"
    }
   ],
   "source": [
    "# 2nd model using top 5 features based on feature importance\n",
    "X = df[top_5_features]\n",
    "y = df[\"total_crime\"]\n",
    "\n",
    "X_train, X_test, y_train, y_test = train_test_split(X, y, test_size=0.2, random_state=2)\n",
    "\n",
    "model = RandomForestRegressor(random_state=2)\n",
    "model.fit(X_train, y_train)"
   ]
  },
  {
   "cell_type": "code",
   "execution_count": 211,
   "id": "ae468dad",
   "metadata": {},
   "outputs": [
    {
     "name": "stdout",
     "output_type": "stream",
     "text": [
      "R-Squared Score: 0.9152081616475649\n",
      "Mean Absolute Error: 936.95556626506\n"
     ]
    }
   ],
   "source": [
    "# R^2 and mean absolute error score\n",
    "y_pred = model.predict(X_test)\n",
    "\n",
    "r_squared = metrics.r2_score(y_test, y_pred)\n",
    "print('R-Squared Score:', r_squared)\n",
    "\n",
    "mae = metrics.mean_absolute_error(y_test, y_pred)\n",
    "print(\"Mean Absolute Error:\", mae)"
   ]
  },
  {
   "cell_type": "code",
   "execution_count": 53,
   "id": "ab97d095",
   "metadata": {},
   "outputs": [
    {
     "name": "stdout",
     "output_type": "stream",
     "text": [
      "{'criterion': 'absolute_error', 'max_depth': 5, 'min_samples_leaf': 1, 'min_samples_split': 10, 'n_estimators': 100}\n",
      "RandomForestRegressor(criterion='absolute_error', max_depth=5,\n",
      "                      min_samples_split=10)\n"
     ]
    }
   ],
   "source": [
    "# Model hyperparameters tuning\n",
    "# params = {\n",
    "#     'criterion' : ['absolute_error'],\n",
    "#     'n_estimators': [50, 100],\n",
    "#     'max_depth': [2, 5],\n",
    "#     'min_samples_split': [2, 10],\n",
    "#     'min_samples_leaf': [1, 10]\n",
    "#          }\n",
    "\n",
    "# grid_search_cv =  GridSearchCV( \n",
    "#     estimator = RandomForestRegressor(), \n",
    "#     param_grid = params, \n",
    "#     scoring = 'neg_mean_absolute_error')\n",
    "\n",
    "# grid_search_cv.fit(X_train, y_train)\n",
    "\n",
    "# print(grid_search_cv.best_params_)\n",
    "\n",
    "# model = grid_search_cv.best_estimator_\n",
    "\n",
    "# print(model)"
   ]
  },
  {
   "cell_type": "code",
   "execution_count": null,
   "id": "93067fae",
   "metadata": {},
   "outputs": [],
   "source": []
  },
  {
   "cell_type": "code",
   "execution_count": null,
   "id": "b548a7ab",
   "metadata": {},
   "outputs": [],
   "source": []
  },
  {
   "cell_type": "code",
   "execution_count": null,
   "id": "8650c2b2",
   "metadata": {},
   "outputs": [],
   "source": []
  },
  {
   "cell_type": "code",
   "execution_count": null,
   "id": "11a81731",
   "metadata": {},
   "outputs": [],
   "source": []
  }
 ],
 "metadata": {
  "kernelspec": {
   "display_name": "Python 3 (ipykernel)",
   "language": "python",
   "name": "python3"
  },
  "language_info": {
   "codemirror_mode": {
    "name": "ipython",
    "version": 3
   },
   "file_extension": ".py",
   "mimetype": "text/x-python",
   "name": "python",
   "nbconvert_exporter": "python",
   "pygments_lexer": "ipython3",
   "version": "3.10.6"
  },
  "vscode": {
   "interpreter": {
    "hash": "31f2aee4e71d21fbe5cf8b01ff0e069b9275f58929596ceb00d14d90e3e16cd6"
   }
  }
 },
 "nbformat": 4,
 "nbformat_minor": 5
}
